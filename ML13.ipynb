{
  "nbformat": 4,
  "nbformat_minor": 0,
  "metadata": {
    "colab": {
      "provenance": []
    },
    "kernelspec": {
      "name": "python3",
      "display_name": "Python 3"
    },
    "language_info": {
      "name": "python"
    }
  },
  "cells": [
    {
      "cell_type": "code",
      "execution_count": 1,
      "metadata": {
        "id": "2jnbWEsAnOZR"
      },
      "outputs": [],
      "source": [
        "import numpy as np\n",
        "\n"
      ]
    },
    {
      "cell_type": "code",
      "source": [
        "X = np.array([[0, 0, 0], [0, 0, 1], [0, 1, 0], [0, 1, 1], [1, 0, 0], [1, 0, 1], [1, 1, 0], [1, 1, 1]]) #input\n",
        "y = np.array([0, 0, 0, 0, 0, 0, 0, 1]) #output\n",
        "\n"
      ],
      "metadata": {
        "id": "2otAc3YInVzi"
      },
      "execution_count": 2,
      "outputs": []
    },
    {
      "cell_type": "code",
      "source": [
        "#activation function\n",
        "def activation(z):\n",
        "    return np.where(z >= 0, 1, 0)\n",
        "\n",
        "# Initialize the weights and bias with random values\n",
        "np.random.seed(42)\n",
        "w = np.random.rand(3)\n",
        "b = np.random.rand()\n",
        "\n"
      ],
      "metadata": {
        "id": "_RYKLqRunX6s"
      },
      "execution_count": 3,
      "outputs": []
    },
    {
      "cell_type": "code",
      "source": [
        "# Set the learning rate and number of epochs\n",
        "learning_rate = 0.1\n",
        "epochs = 10\n",
        "\n",
        "for epoch in range(epochs):\n",
        "    \n",
        "    total_error = 0 # Initializing the errors to zero\n",
        "    # Loop over all the input data and expected outputs\n",
        "    for i in range(len(X)):\n",
        "        \n",
        "        # Calculate the weighted sum (wx+b) and apply the activation function \n",
        "        z = np.dot(X[i], w) + b\n",
        "        output = activation(z)\n",
        "        \n",
        "        # Calculate the error and update the weights and bias\n",
        "        error = y[i] - output\n",
        "        w += learning_rate * error * X[i]\n",
        "        b += learning_rate * error\n",
        "        \n",
        "        total_error += abs(error) #adding the total error\n",
        "        \n",
        "    print(\"Epoch:\", epoch, \"Total Error:\", total_error)\n",
        "\n"
      ],
      "metadata": {
        "colab": {
          "base_uri": "https://localhost:8080/"
        },
        "id": "FVeZVsXPncez",
        "outputId": "c482dd1a-894a-4428-c0f4-231ef93a87ca"
      },
      "execution_count": 4,
      "outputs": [
        {
          "output_type": "stream",
          "name": "stdout",
          "text": [
            "Epoch: 0 Total Error: 7\n",
            "Epoch: 1 Total Error: 4\n",
            "Epoch: 2 Total Error: 2\n",
            "Epoch: 3 Total Error: 2\n",
            "Epoch: 4 Total Error: 2\n",
            "Epoch: 5 Total Error: 1\n",
            "Epoch: 6 Total Error: 0\n",
            "Epoch: 7 Total Error: 0\n",
            "Epoch: 8 Total Error: 0\n",
            "Epoch: 9 Total Error: 0\n"
          ]
        }
      ]
    },
    {
      "cell_type": "code",
      "source": [
        "#here we can see in the further iterations, error diminishes.\n",
        "\n",
        "X_test = np.array([[0, 0, 0], [0, 0, 1], [0, 1, 0], [0, 1, 1], [1, 0, 0], [1, 0, 1], [1, 1, 0], [1, 1, 1]])\n",
        "y_test = np.array([0, 0, 0, 0, 0, 0, 0, 1])\n",
        "\n",
        "for i in range(len(X_test)):\n",
        "    z = np.dot(X_test[i], w) + b\n",
        "    output = activation(z)\n",
        "    print(\"Input:\", X_test[i], \"Output:\", output, \"Expected Output:\", y_test[i])\n"
      ],
      "metadata": {
        "id": "Oa-rcKf4nfcK",
        "outputId": "29887662-aa60-4e51-f192-b4b478cb704b",
        "colab": {
          "base_uri": "https://localhost:8080/"
        }
      },
      "execution_count": 5,
      "outputs": [
        {
          "output_type": "stream",
          "name": "stdout",
          "text": [
            "Input: [0 0 0] Output: 0 Expected Output: 0\n",
            "Input: [0 0 1] Output: 0 Expected Output: 0\n",
            "Input: [0 1 0] Output: 0 Expected Output: 0\n",
            "Input: [0 1 1] Output: 0 Expected Output: 0\n",
            "Input: [1 0 0] Output: 0 Expected Output: 0\n",
            "Input: [1 0 1] Output: 0 Expected Output: 0\n",
            "Input: [1 1 0] Output: 0 Expected Output: 0\n",
            "Input: [1 1 1] Output: 1 Expected Output: 1\n"
          ]
        }
      ]
    },
    {
      "cell_type": "code",
      "source": [],
      "metadata": {
        "id": "QWUq54AyngC9"
      },
      "execution_count": null,
      "outputs": []
    }
  ]
}