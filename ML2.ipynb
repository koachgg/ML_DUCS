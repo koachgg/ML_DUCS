{
  "nbformat": 4,
  "nbformat_minor": 0,
  "metadata": {
    "colab": {
      "provenance": []
    },
    "kernelspec": {
      "name": "python3",
      "display_name": "Python 3"
    },
    "language_info": {
      "name": "python"
    }
  },
  "cells": [
    {
      "cell_type": "code",
      "execution_count": 1,
      "metadata": {
        "colab": {
          "base_uri": "https://localhost:8080/"
        },
        "id": "xIjvLK-pPtwP",
        "outputId": "5b52749e-6950-48e0-fef5-1a046e76d480"
      },
      "outputs": [
        {
          "output_type": "stream",
          "name": "stdout",
          "text": [
            "Training Accuracy:  0.95\n",
            "Testing Accuracy:  1.0\n",
            "Confusion Matrix:\n",
            "[[10  0  0]\n",
            " [ 0  9  0]\n",
            " [ 0  0 11]]\n"
          ]
        }
      ],
      "source": [
        "from sklearn.datasets import load_iris\n",
        "from sklearn.model_selection import train_test_split\n",
        "from sklearn.naive_bayes import GaussianNB\n",
        "from sklearn.metrics import confusion_matrix\n",
        "\n",
        "iris_data=load_iris()\n",
        "\n",
        "X_train,X_test,y_train,y_test=train_test_split(iris_data.data,iris_data.target,test_size=0.2,random_state=42)\n",
        "\n",
        "clf=GaussianNB()\n",
        "clf.fit(X_train,y_train)\n",
        "\n",
        "y_pred=clf.predict(X_test)\n",
        "y_pred\n",
        "\n",
        "print('Training Accuracy: ', clf.score(X_train,y_train))\n",
        "print('Testing Accuracy: ', clf.score(X_test,y_test))\n",
        "\n",
        "print('Confusion Matrix:') \n",
        "print(confusion_matrix(y_test,y_pred))\n"
      ]
    },
    {
      "cell_type": "code",
      "source": [],
      "metadata": {
        "id": "EbtbCdRYP0kW"
      },
      "execution_count": null,
      "outputs": []
    }
  ]
}