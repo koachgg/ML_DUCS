{
  "nbformat": 4,
  "nbformat_minor": 0,
  "metadata": {
    "colab": {
      "provenance": []
    },
    "kernelspec": {
      "name": "python3",
      "display_name": "Python 3"
    },
    "language_info": {
      "name": "python"
    }
  },
  "cells": [
    {
      "cell_type": "code",
      "execution_count": 1,
      "metadata": {
        "id": "_bJV7vtFmC3q"
      },
      "outputs": [],
      "source": [
        "import pandas as pd\n",
        "from sklearn.datasets import load_wine\n",
        "from sklearn.model_selection import train_test_split\n",
        "from sklearn.naive_bayes import GaussianNB\n"
      ]
    },
    {
      "cell_type": "code",
      "source": [
        "\n",
        "wine=load_wine()\n",
        "\n",
        "wine.feature_names\n",
        "\n",
        "wine.target_names\n",
        "\n"
      ],
      "metadata": {
        "colab": {
          "base_uri": "https://localhost:8080/"
        },
        "id": "RWxGwCFzmPkU",
        "outputId": "057c15d8-e74a-4c95-8ec0-1468d87790a8"
      },
      "execution_count": 2,
      "outputs": [
        {
          "output_type": "execute_result",
          "data": {
            "text/plain": [
              "array(['class_0', 'class_1', 'class_2'], dtype='<U7')"
            ]
          },
          "metadata": {},
          "execution_count": 2
        }
      ]
    },
    {
      "cell_type": "code",
      "source": [
        "df=pd.DataFrame(data=wine.data,columns=wine.feature_names)\n",
        "df\n",
        "\n",
        "X_train,X_test,y_train,y_test=train_test_split(df,wine.target,test_size=0.2,random_state=0)\n",
        "X_train.shape\n",
        "\n"
      ],
      "metadata": {
        "colab": {
          "base_uri": "https://localhost:8080/"
        },
        "id": "HZEwTXbymRHf",
        "outputId": "256a0e61-71bb-40bc-937c-634b89e989b3"
      },
      "execution_count": 3,
      "outputs": [
        {
          "output_type": "execute_result",
          "data": {
            "text/plain": [
              "(142, 13)"
            ]
          },
          "metadata": {},
          "execution_count": 3
        }
      ]
    },
    {
      "cell_type": "code",
      "source": [
        "from sklearn.naive_bayes import GaussianNB\n",
        "nb=GaussianNB()\n",
        "nb.fit(X_train,y_train)\n",
        "\n",
        "y_pred=nb.predict(X_test)\n",
        "y_pred\n",
        "\n",
        "from sklearn import metrics\n",
        "\n",
        "print('Accuracy: ', metrics.accuracy_score(y_test,y_pred))\n",
        "\n"
      ],
      "metadata": {
        "colab": {
          "base_uri": "https://localhost:8080/"
        },
        "id": "DZItmvYvmSx-",
        "outputId": "49912524-d572-443c-ca4e-5fab8f94e441"
      },
      "execution_count": 4,
      "outputs": [
        {
          "output_type": "stream",
          "name": "stdout",
          "text": [
            "Accuracy:  0.9166666666666666\n"
          ]
        }
      ]
    },
    {
      "cell_type": "code",
      "source": [],
      "metadata": {
        "id": "DQYzxTiumY98"
      },
      "execution_count": null,
      "outputs": []
    }
  ]
}