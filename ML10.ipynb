{
  "nbformat": 4,
  "nbformat_minor": 0,
  "metadata": {
    "colab": {
      "provenance": []
    },
    "kernelspec": {
      "name": "python3",
      "display_name": "Python 3"
    },
    "language_info": {
      "name": "python"
    }
  },
  "cells": [
    {
      "cell_type": "code",
      "execution_count": 1,
      "metadata": {
        "id": "nPjs1P_Tk4DS"
      },
      "outputs": [],
      "source": [
        "\n",
        "import numpy as np\n",
        "class LR_GD:\n",
        "    def __init__(self):\n",
        "        self.coeff=[0,0]\n",
        "    \n",
        "    def fit(self,x,y,epochs,lr):\n",
        "        m = x.shape[0]     #no of samples\n",
        "        for i in range(epochs):\n",
        "            h = x*self.coeff[1] + self.coeff[0]  #hypothesis fucntion\n",
        "            error = h - y\n",
        "            cost = sum(error*error)/(2*m)\n",
        "            temp_coeff = self.coeff[1] - (lr/m)*sum(error*x)\n",
        "            temp_b = self.coeff[0] - (lr/m)*sum(error)\n",
        "            self.coeff[1] = temp_coeff\n",
        "            self.coeff[0] = temp_b\n",
        "    \n",
        "    def predict(self,x):\n",
        "        y = self.coeff[0] + self.coeff[1]*x\n",
        "        return y\n",
        "    \n",
        "    def RSS(self,y,y_pred):\n",
        "        error=y-y_pred\n",
        "        rss=sum(error*error)        \n",
        "        return rss\n",
        "    \n",
        "    def TSS(self,y):\n",
        "        error=y-y.mean()\n",
        "        tss=sum(error*error)\n",
        "        \n",
        "        return rss\n",
        "    \n",
        "    def R2(self,rss,tss): \n",
        "        r2=1-(rss/tss)\n",
        "        return r2\n",
        "    \n",
        "    def MSE(self,rss,y):\n",
        "        mse=rss/len(y)\n",
        "        return mse\n",
        "\n"
      ]
    },
    {
      "cell_type": "code",
      "source": [
        "X = [42,37,30,50,43,47,46]\n",
        "Y = [173,149,123,201,175,188,186]\n",
        "x = np.array(X)\n",
        "y = np.array(Y)\n",
        "model = LR_GD()\n",
        "model.fit(x,y,30,0.001)\n",
        "y_pred = model.predict(46)\n",
        "print(\"Number of Passengers when temp is 46 is {}\".format(y_pred))\n",
        "\n",
        "print('m: ', model.coeff[1])\n",
        "print('b: ',model.coeff[0])\n"
      ],
      "metadata": {
        "colab": {
          "base_uri": "https://localhost:8080/"
        },
        "id": "5yTDhmW3lOyN",
        "outputId": "06182286-457f-4e14-c854-1dfee1094c70"
      },
      "execution_count": 2,
      "outputs": [
        {
          "output_type": "stream",
          "name": "stdout",
          "text": [
            "Number of Passengers when temp is 46 is 185.77284473800063\n",
            "m:  4.036421855683573\n",
            "b:  0.09743937655628325\n"
          ]
        }
      ]
    },
    {
      "cell_type": "code",
      "source": [],
      "metadata": {
        "id": "wwct98zUlPeb"
      },
      "execution_count": null,
      "outputs": []
    }
  ]
}